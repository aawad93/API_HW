{
 "cells": [
  {
   "cell_type": "markdown",
   "metadata": {},
   "source": [
    "# WeatherPy\n",
    "----\n",
    "\n",
    "#### Note\n",
    "* Instructions have been included for each segment. You do not have to follow them exactly, but they are included to help you think through the steps."
   ]
  },
  {
   "cell_type": "code",
   "execution_count": 9,
   "metadata": {
    "scrolled": true
   },
   "outputs": [],
   "source": [
    "# Dependencies and Setup\n",
    "import matplotlib.pyplot as plt\n",
    "import pandas as pd\n",
    "import numpy as np\n",
    "import requests\n",
    "import time\n",
    "from pprint import pprint\n",
    "\n",
    "# Import API key\n",
    "from api_keys import api_key\n",
    "\n",
    "# Incorporated citipy to determine city based on latitude and longitude\n",
    "from citipy import citipy\n",
    "\n",
    "# Output File (CSV)\n",
    "output_data_file = \"output_data/cities.csv\"\n",
    "\n",
    "# Range of latitudes and longitudes\n",
    "lat_range = (-90, 90)\n",
    "lng_range = (-180, 180)"
   ]
  },
  {
   "cell_type": "markdown",
   "metadata": {},
   "source": [
    "## Generate Cities List"
   ]
  },
  {
   "cell_type": "code",
   "execution_count": 16,
   "metadata": {},
   "outputs": [
    {
     "data": {
      "text/plain": [
       "614"
      ]
     },
     "execution_count": 16,
     "metadata": {},
     "output_type": "execute_result"
    }
   ],
   "source": [
    "# List for holding lat_lngs and cities\n",
    "lat_lngs = []\n",
    "cities = []\n",
    "\n",
    "# Create a set of random lat and lng combinations\n",
    "lats = np.random.uniform(low=-90.000, high=90.000, size=1500)\n",
    "lngs = np.random.uniform(low=-180.000, high=180.000, size=1500)\n",
    "lat_lngs = zip(lats, lngs)\n",
    "\n",
    "# Identify nearest city for each lat, lng combination\n",
    "for lat_lng in lat_lngs:\n",
    "    city = citipy.nearest_city(lat_lng[0], lat_lng[1]).city_name\n",
    "    \n",
    "    # If the city is unique, then add it to a our cities list\n",
    "    if city not in cities:\n",
    "        cities.append(city)\n",
    "\n",
    "# Print the city count to confirm sufficient count\n",
    "len(cities)"
   ]
  },
  {
   "cell_type": "markdown",
   "metadata": {},
   "source": [
    "### Perform API Calls\n",
    "* Perform a weather check on each city using a series of successive API calls.\n",
    "* Include a print log of each city as it'sbeing processed (with the city number and city name).\n"
   ]
  },
  {
   "cell_type": "code",
   "execution_count": null,
   "metadata": {},
   "outputs": [
    {
     "name": "stdout",
     "output_type": "stream",
     "text": [
      "Record Not Found\n",
      "Records for taolanaro were found\n",
      "Records for kapaa were found\n",
      "Records for wiarton were found\n",
      "Records for ribeira grande were found\n",
      "Records for rikitea were found\n",
      "Records for puerto ayora were found\n",
      "Records for atuona were found\n",
      "Records for saldanha were found\n",
      "Records for cairns were found\n",
      "Records for ushuaia were found\n",
      "Records for punta arenas were found\n",
      "Records for vaini were found\n",
      "Records for yellowknife were found\n",
      "Records for tuktoyaktuk were found\n",
      "Records for turukhansk were found\n",
      "Records for hilo were found\n",
      "Records for oranjemund were found\n",
      "Records for matagami were found\n",
      "Records for cidreira were found\n",
      "Records for busselton were found\n",
      "Records for saint-andre-avellin were found\n",
      "Records for iqaluit were found\n",
      "Records for dawei were found\n",
      "Records for norman wells were found\n",
      "Records for bambous virieux were found\n",
      "Records for saint-philippe were found\n",
      "Records for buchanan were found\n",
      "Records for luganville were found\n",
      "Records for skibbereen were found\n",
      "Records for tuatapere were found\n",
      "Records for havelock were found\n",
      "Records for puerto cabezas were found\n",
      "Records for jamestown were found\n",
      "Records for mataura were found\n",
      "Records for serafimovich were found\n",
      "Records for lebu were found\n",
      "Records for hobart were found\n",
      "Records for hofn were found\n",
      "Records for albany were found\n",
      "Record Not Found\n",
      "Records for inhambane were found\n",
      "Records for hithadhoo were found\n",
      "Records for bilibino were found\n",
      "Records for lorengau were found\n",
      "Records for klaksvik were found\n"
     ]
    }
   ],
   "source": [
    "# Import Open Weather Map Wrapper\n",
    "import openweathermapy.core as owm\n",
    "\n",
    "# Set up list and parameters\n",
    "weather_json = []\n",
    "params = {'units' : 'imperial', 'appid' : api_key}\n",
    "\n",
    "# Create a loop to request all cities in list\n",
    "for city in cities:\n",
    "    try:\n",
    "        weather_json.append(owm.get_current(city, **params))\n",
    "    except:\n",
    "        print(\"Record Not Found\")\n",
    "    print(f\"Records for {city} were found\")"
   ]
  },
  {
   "cell_type": "code",
   "execution_count": 13,
   "metadata": {},
   "outputs": [
    {
     "data": {
      "text/plain": [
       "['coord',\n",
       " 'weather',\n",
       " 'base',\n",
       " 'main',\n",
       " 'wind',\n",
       " 'clouds',\n",
       " 'dt',\n",
       " 'sys',\n",
       " 'timezone',\n",
       " 'id',\n",
       " 'name',\n",
       " 'cod',\n",
       " 'coord',\n",
       " 'weather',\n",
       " 'base',\n",
       " 'main',\n",
       " 'wind',\n",
       " 'clouds',\n",
       " 'dt',\n",
       " 'sys',\n",
       " 'timezone',\n",
       " 'id',\n",
       " 'name',\n",
       " 'cod',\n",
       " 'coord',\n",
       " 'weather',\n",
       " 'base',\n",
       " 'main',\n",
       " 'visibility',\n",
       " 'wind',\n",
       " 'clouds',\n",
       " 'dt',\n",
       " 'sys',\n",
       " 'timezone',\n",
       " 'id',\n",
       " 'name',\n",
       " 'cod',\n",
       " 'coord',\n",
       " 'weather',\n",
       " 'base',\n",
       " 'main',\n",
       " 'wind',\n",
       " 'clouds',\n",
       " 'dt',\n",
       " 'sys',\n",
       " 'timezone',\n",
       " 'id',\n",
       " 'name',\n",
       " 'cod',\n",
       " 'coord',\n",
       " 'weather',\n",
       " 'base',\n",
       " 'main',\n",
       " 'wind',\n",
       " 'clouds',\n",
       " 'dt',\n",
       " 'sys',\n",
       " 'timezone',\n",
       " 'id',\n",
       " 'name',\n",
       " 'cod',\n",
       " 'coord',\n",
       " 'weather',\n",
       " 'base',\n",
       " 'main',\n",
       " 'wind',\n",
       " 'clouds',\n",
       " 'dt',\n",
       " 'sys',\n",
       " 'timezone',\n",
       " 'id',\n",
       " 'name',\n",
       " 'cod',\n",
       " 'coord',\n",
       " 'weather',\n",
       " 'base',\n",
       " 'main',\n",
       " 'wind',\n",
       " 'rain',\n",
       " 'clouds',\n",
       " 'dt',\n",
       " 'sys',\n",
       " 'timezone',\n",
       " 'id',\n",
       " 'name',\n",
       " 'cod',\n",
       " 'coord',\n",
       " 'weather',\n",
       " 'base',\n",
       " 'main',\n",
       " 'visibility',\n",
       " 'wind',\n",
       " 'clouds',\n",
       " 'dt',\n",
       " 'sys',\n",
       " 'timezone',\n",
       " 'id',\n",
       " 'name',\n",
       " 'cod',\n",
       " 'coord',\n",
       " 'weather',\n",
       " 'base',\n",
       " 'main',\n",
       " 'wind',\n",
       " 'rain',\n",
       " 'clouds',\n",
       " 'dt',\n",
       " 'sys',\n",
       " 'timezone',\n",
       " 'id',\n",
       " 'name',\n",
       " 'cod',\n",
       " 'coord',\n",
       " 'weather',\n",
       " 'base',\n",
       " 'main',\n",
       " 'wind',\n",
       " 'clouds',\n",
       " 'dt',\n",
       " 'sys',\n",
       " 'timezone',\n",
       " 'id',\n",
       " 'name',\n",
       " 'cod',\n",
       " 'coord',\n",
       " 'weather',\n",
       " 'base',\n",
       " 'main',\n",
       " 'visibility',\n",
       " 'wind',\n",
       " 'clouds',\n",
       " 'dt',\n",
       " 'sys',\n",
       " 'timezone',\n",
       " 'id',\n",
       " 'name',\n",
       " 'cod',\n",
       " 'coord',\n",
       " 'weather',\n",
       " 'base',\n",
       " 'main',\n",
       " 'wind',\n",
       " 'rain',\n",
       " 'clouds',\n",
       " 'dt',\n",
       " 'sys',\n",
       " 'timezone',\n",
       " 'id',\n",
       " 'name',\n",
       " 'cod',\n",
       " 'coord',\n",
       " 'weather',\n",
       " 'base',\n",
       " 'main',\n",
       " 'visibility',\n",
       " 'wind',\n",
       " 'clouds',\n",
       " 'dt',\n",
       " 'sys',\n",
       " 'timezone',\n",
       " 'id',\n",
       " 'name',\n",
       " 'cod',\n",
       " 'coord',\n",
       " 'weather',\n",
       " 'base',\n",
       " 'main',\n",
       " 'visibility',\n",
       " 'wind',\n",
       " 'clouds',\n",
       " 'dt',\n",
       " 'sys',\n",
       " 'timezone',\n",
       " 'id',\n",
       " 'name',\n",
       " 'cod',\n",
       " 'coord',\n",
       " 'weather',\n",
       " 'base',\n",
       " 'main',\n",
       " 'visibility',\n",
       " 'wind',\n",
       " 'clouds',\n",
       " 'dt',\n",
       " 'sys',\n",
       " 'timezone',\n",
       " 'id',\n",
       " 'name',\n",
       " 'cod']"
      ]
     },
     "execution_count": 13,
     "metadata": {},
     "output_type": "execute_result"
    }
   ],
   "source": [
    "# Check how many valid cities\n",
    "len(weather_json)"
   ]
  },
  {
   "cell_type": "code",
   "execution_count": 5,
   "metadata": {
    "scrolled": true
   },
   "outputs": [
    {
     "ename": "TypeError",
     "evalue": "'int' object is not iterable",
     "output_type": "error",
     "traceback": [
      "\u001b[1;31m---------------------------------------------------------------------------\u001b[0m",
      "\u001b[1;31mTypeError\u001b[0m                                 Traceback (most recent call last)",
      "\u001b[1;32m<ipython-input-5-32dea731cec8>\u001b[0m in \u001b[0;36m<module>\u001b[1;34m\u001b[0m\n\u001b[0;32m     10\u001b[0m \u001b[1;33m\u001b[0m\u001b[0m\n\u001b[0;32m     11\u001b[0m \u001b[1;31m# Loop through JSON to capture data\u001b[0m\u001b[1;33m\u001b[0m\u001b[1;33m\u001b[0m\u001b[1;33m\u001b[0m\u001b[0m\n\u001b[1;32m---> 12\u001b[1;33m \u001b[1;32mfor\u001b[0m \u001b[0mi\u001b[0m \u001b[1;32min\u001b[0m \u001b[0mlen\u001b[0m\u001b[1;33m(\u001b[0m\u001b[0mweather_json\u001b[0m\u001b[1;33m)\u001b[0m\u001b[1;33m:\u001b[0m\u001b[1;33m\u001b[0m\u001b[1;33m\u001b[0m\u001b[0m\n\u001b[0m\u001b[0;32m     13\u001b[0m     \u001b[0mlat\u001b[0m\u001b[1;33m.\u001b[0m\u001b[0mappend\u001b[0m\u001b[1;33m(\u001b[0m\u001b[0mweather_json\u001b[0m\u001b[1;33m[\u001b[0m\u001b[0mi\u001b[0m\u001b[1;33m]\u001b[0m\u001b[1;33m[\u001b[0m\u001b[1;34m'coord'\u001b[0m\u001b[1;33m]\u001b[0m\u001b[1;33m[\u001b[0m\u001b[1;34m'lat'\u001b[0m\u001b[1;33m]\u001b[0m\u001b[1;33m)\u001b[0m\u001b[1;33m\u001b[0m\u001b[1;33m\u001b[0m\u001b[0m\n\u001b[0;32m     14\u001b[0m     \u001b[0mname\u001b[0m\u001b[1;33m.\u001b[0m\u001b[0mappend\u001b[0m\u001b[1;33m(\u001b[0m\u001b[0mweather_json\u001b[0m\u001b[1;33m[\u001b[0m\u001b[0mi\u001b[0m\u001b[1;33m]\u001b[0m\u001b[1;33m[\u001b[0m\u001b[1;34m'name'\u001b[0m\u001b[1;33m]\u001b[0m\u001b[1;33m)\u001b[0m\u001b[1;33m\u001b[0m\u001b[1;33m\u001b[0m\u001b[0m\n",
      "\u001b[1;31mTypeError\u001b[0m: 'int' object is not iterable"
     ]
    }
   ],
   "source": [
    "# Set up variables to capture data\n",
    "lat = []\n",
    "name = []\n",
    "temp = []\n",
    "clouds = []\n",
    "humidity = []\n",
    "wind = []\n",
    "country = []\n",
    "i = 0\n",
    "\n",
    "# Loop through JSON to capture data\n",
    "for i, v in enumerate weather_json:\n",
    "    lat.append(weather_json[i]['coord']['lat'])\n",
    "    name.append(weather_json[i]['name'])\n",
    "    temp.append(weather_json[i]['main']['temp'])\n",
    "    clouds.append(weather_json[i]['clouds']['all'])\n",
    "    humidity.append(weather_json[i]['main']['humidity'])\n",
    "    wind.append(weather_json[i]['wind']['speed'])\n",
    "    country.append(weather_json[i]['sys']['country'])"
   ]
  },
  {
   "cell_type": "markdown",
   "metadata": {},
   "source": [
    "### Convert Raw Data to DataFrame\n",
    "* Export the city data into a .csv.\n",
    "* Display the DataFrame"
   ]
  },
  {
   "cell_type": "code",
   "execution_count": 6,
   "metadata": {},
   "outputs": [
    {
     "data": {
      "text/html": [
       "<div>\n",
       "<style scoped>\n",
       "    .dataframe tbody tr th:only-of-type {\n",
       "        vertical-align: middle;\n",
       "    }\n",
       "\n",
       "    .dataframe tbody tr th {\n",
       "        vertical-align: top;\n",
       "    }\n",
       "\n",
       "    .dataframe thead th {\n",
       "        text-align: right;\n",
       "    }\n",
       "</style>\n",
       "<table border=\"1\" class=\"dataframe\">\n",
       "  <thead>\n",
       "    <tr style=\"text-align: right;\">\n",
       "      <th></th>\n",
       "      <th>city</th>\n",
       "      <th>country</th>\n",
       "      <th>latitude</th>\n",
       "      <th>Temperature</th>\n",
       "      <th>Cloudiness %</th>\n",
       "      <th>Humidity %</th>\n",
       "      <th>Wind Speed</th>\n",
       "    </tr>\n",
       "  </thead>\n",
       "  <tbody>\n",
       "    <tr>\n",
       "      <th>0</th>\n",
       "      <td>Chuy</td>\n",
       "      <td>UY</td>\n",
       "      <td>-33.69</td>\n",
       "      <td>46.74</td>\n",
       "      <td>42</td>\n",
       "      <td>67</td>\n",
       "      <td>16.46</td>\n",
       "    </tr>\n",
       "    <tr>\n",
       "      <th>1</th>\n",
       "      <td>Butaritari</td>\n",
       "      <td>KI</td>\n",
       "      <td>3.07</td>\n",
       "      <td>84.18</td>\n",
       "      <td>0</td>\n",
       "      <td>67</td>\n",
       "      <td>4.32</td>\n",
       "    </tr>\n",
       "    <tr>\n",
       "      <th>2</th>\n",
       "      <td>Atuona</td>\n",
       "      <td>PF</td>\n",
       "      <td>-9.80</td>\n",
       "      <td>80.40</td>\n",
       "      <td>52</td>\n",
       "      <td>66</td>\n",
       "      <td>7.34</td>\n",
       "    </tr>\n",
       "    <tr>\n",
       "      <th>3</th>\n",
       "      <td>Leningradskiy</td>\n",
       "      <td>RU</td>\n",
       "      <td>69.38</td>\n",
       "      <td>36.84</td>\n",
       "      <td>98</td>\n",
       "      <td>95</td>\n",
       "      <td>5.64</td>\n",
       "    </tr>\n",
       "    <tr>\n",
       "      <th>4</th>\n",
       "      <td>Nyurba</td>\n",
       "      <td>RU</td>\n",
       "      <td>63.29</td>\n",
       "      <td>46.92</td>\n",
       "      <td>19</td>\n",
       "      <td>67</td>\n",
       "      <td>4.18</td>\n",
       "    </tr>\n",
       "  </tbody>\n",
       "</table>\n",
       "</div>"
      ],
      "text/plain": [
       "            city country  latitude  Temperature  Cloudiness %  Humidity %  \\\n",
       "0           Chuy      UY    -33.69        46.74            42          67   \n",
       "1     Butaritari      KI      3.07        84.18             0          67   \n",
       "2         Atuona      PF     -9.80        80.40            52          66   \n",
       "3  Leningradskiy      RU     69.38        36.84            98          95   \n",
       "4         Nyurba      RU     63.29        46.92            19          67   \n",
       "\n",
       "   Wind Speed  \n",
       "0       16.46  \n",
       "1        4.32  \n",
       "2        7.34  \n",
       "3        5.64  \n",
       "4        4.18  "
      ]
     },
     "execution_count": 6,
     "metadata": {},
     "output_type": "execute_result"
    }
   ],
   "source": [
    "# Create a dictionary with all the info collected\n",
    "weather_dict = {'city': name,\n",
    "                'country' : country,\n",
    "               'latitude' : lat,\n",
    "               'Temperature': temp,\n",
    "               'Cloudiness %' : clouds,\n",
    "               'Humidity %': humidity,\n",
    "               'Wind Speed': wind}\n",
    "\n",
    "# Create DataFrame and export it to csv file\n",
    "weather_df = pd.DataFrame(data = weather_dict)\n",
    "weather_df.to_csv('Weather Data.csv')\n",
    "weather_df.head()"
   ]
  },
  {
   "cell_type": "markdown",
   "metadata": {},
   "source": [
    "### Plotting the Data\n",
    "* Use proper labeling of the plots using plot titles (including date of analysis) and axes labels.\n",
    "* Save the plotted figures as .pngs."
   ]
  },
  {
   "cell_type": "markdown",
   "metadata": {},
   "source": [
    "#### Latitude vs. Temperature Plot"
   ]
  },
  {
   "cell_type": "code",
   "execution_count": 8,
   "metadata": {},
   "outputs": [
    {
     "data": {
      "image/png": "[encoded data removed]",
      "text/plain": [
       "<Figure size 432x288 with 1 Axes>"
      ]
     },
     "metadata": {
      "needs_background": "light"
     },
     "output_type": "display_data"
    }
   ],
   "source": [
    "Temperature_Plot = plt.scatter(weather_df['latitude'], weather_df['Temperature'])\n",
    "\n",
    "plt.grid()\n",
    "plt.title('City Latitude vs. Temperature (F) (07/03/2019)')\n",
    "plt.xlabel('Latitude')\n",
    "plt.ylabel('Temperature (F)')\n",
    "plt.savefig('Temperature_Plot.png')"
   ]
  },
  {
   "cell_type": "markdown",
   "metadata": {},
   "source": [
    "#### Latitude vs. Humidity Plot"
   ]
  },
  {
   "cell_type": "code",
   "execution_count": 9,
   "metadata": {},
   "outputs": [
    {
     "data": {
      "image/png": "[encoded data removed]",
      "text/plain": [
       "<Figure size 432x288 with 1 Axes>"
      ]
     },
     "metadata": {
      "needs_background": "light"
     },
     "output_type": "display_data"
    }
   ],
   "source": [
    "Humidity_Plot = plt.scatter(weather_df['latitude'], weather_df['Humidity %'])\n",
    "\n",
    "plt.grid()\n",
    "plt.title('City Latitude vs. Humidity (07/03/2019)')\n",
    "plt.xlabel('Latitude')\n",
    "plt.ylabel('Humidity (%)')\n",
    "plt.ylim(top=110)\n",
    "plt.savefig('Humidity_Plot.png')"
   ]
  },
  {
   "cell_type": "markdown",
   "metadata": {},
   "source": [
    "#### Latitude vs. Cloudiness Plot"
   ]
  },
  {
   "cell_type": "code",
   "execution_count": 10,
   "metadata": {},
   "outputs": [
    {
     "data": {
      "image/png": "[encoded data removed]",
      "text/plain": [
       "<Figure size 432x288 with 1 Axes>"
      ]
     },
     "metadata": {
      "needs_background": "light"
     },
     "output_type": "display_data"
    }
   ],
   "source": [
    "Cloudiness_Plot = plt.scatter(weather_df['latitude'], weather_df['Cloudiness %'])\n",
    "\n",
    "plt.grid()\n",
    "plt.title('City Latitude vs. Cloudiness (07/03/2019)')\n",
    "plt.xlabel('Latitude')\n",
    "plt.ylabel('Cloudiness (%)')\n",
    "plt.ylim(top=110)\n",
    "plt.savefig('Cloudiness_Plot.png')"
   ]
  },
  {
   "cell_type": "markdown",
   "metadata": {},
   "source": [
    "#### Latitude vs. Wind Speed Plot"
   ]
  },
  {
   "cell_type": "code",
   "execution_count": 11,
   "metadata": {},
   "outputs": [
    {
     "data": {
      "image/png": "[encoded data removed]",
      "text/plain": [
       "<Figure size 432x288 with 1 Axes>"
      ]
     },
     "metadata": {
      "needs_background": "light"
     },
     "output_type": "display_data"
    }
   ],
   "source": [
    "Wind_Plot = plt.scatter(weather_df['latitude'], weather_df['Wind Speed'])\n",
    "\n",
    "plt.grid()\n",
    "plt.title('City Latitude vs. Wind Speed (07/03/2019)')\n",
    "plt.xlabel('Latitude')\n",
    "plt.ylabel('Wind Speed (mph)')\n",
    "plt.ylim(top=34)\n",
    "plt.savefig('Wind_Plot.png')"
   ]
  },
  {
   "cell_type": "code",
   "execution_count": 27,
   "metadata": {},
   "outputs": [],
   "source": []
  },
  {
   "cell_type": "code",
   "execution_count": null,
   "metadata": {},
   "outputs": [],
   "source": []
  }
 ],
 "metadata": {
  "anaconda-cloud": {},
  "kernel_info": {
   "name": "python3"
  },
  "kernelspec": {
   "display_name": "Python 3",
   "language": "python",
   "name": "python3"
  },
  "language_info": {
   "codemirror_mode": {
    "name": "ipython",
    "version": 3
   },
   "file_extension": ".py",
   "mimetype": "text/x-python",
   "name": "python",
   "nbconvert_exporter": "python",
   "pygments_lexer": "ipython3",
   "version": "3.7.3"
  },
  "nteract": {
   "version": "0.12.3"
  }
 },
 "nbformat": 4,
 "nbformat_minor": 2
}
